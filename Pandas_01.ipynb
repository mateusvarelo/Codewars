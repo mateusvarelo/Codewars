{
  "nbformat": 4,
  "nbformat_minor": 0,
  "metadata": {
    "colab": {
      "name": "Pandas_01.ipynb",
      "provenance": [],
      "collapsed_sections": [],
      "authorship_tag": "ABX9TyP3EFkUCJOXcFLaugbP7z6a",
      "include_colab_link": true
    },
    "kernelspec": {
      "name": "python3",
      "display_name": "Python 3"
    },
    "language_info": {
      "name": "python"
    }
  },
  "cells": [
    {
      "cell_type": "markdown",
      "metadata": {
        "id": "view-in-github",
        "colab_type": "text"
      },
      "source": [
        "<a href=\"https://colab.research.google.com/github/mateusvarelo/Codewars/blob/main/Pandas_01.ipynb\" target=\"_parent\"><img src=\"https://colab.research.google.com/assets/colab-badge.svg\" alt=\"Open In Colab\"/></a>"
      ]
    },
    {
      "cell_type": "markdown",
      "metadata": {
        "id": "YVbIMMWqGdHm"
      },
      "source": [
        "#### **Aquecimento com pandas**"
      ]
    },
    {
      "cell_type": "code",
      "metadata": {
        "id": "Zhs9xBnZQpYV"
      },
      "source": [
        "pip install polars"
      ],
      "execution_count": null,
      "outputs": []
    },
    {
      "cell_type": "code",
      "metadata": {
        "id": "LcYUqjzCGbuF"
      },
      "source": [
        "# bibliotecas para analise\n",
        "import pandas as pd\n",
        "import numpy as np\n",
        "import matplotlib.pyplot as plt\n",
        "import polars as pl"
      ],
      "execution_count": 25,
      "outputs": []
    },
    {
      "cell_type": "code",
      "metadata": {
        "id": "p_eqKBBpMxEv"
      },
      "source": [
        "# Leitura do CSV\n",
        "url = 'https://raw.githubusercontent.com/leticiadasilva/Bases/main/igm_atividade.csv'\n",
        "df = pl.read_csv(url)\n",
        "df = df.to_pandas()"
      ],
      "execution_count": 42,
      "outputs": []
    },
    {
      "cell_type": "code",
      "metadata": {
        "id": "mN3JDPioSFGW"
      },
      "source": [
        "#Qt-01 (Campos do CSV)\n",
        "df.columns"
      ],
      "execution_count": null,
      "outputs": []
    },
    {
      "cell_type": "code",
      "metadata": {
        "colab": {
          "base_uri": "https://localhost:8080/",
          "height": 348
        },
        "id": "OsnQTgEPStLJ",
        "outputId": "868a454d-e3a6-407c-e24b-360657c08b3d"
      },
      "source": [
        "#Qt-02 (5 primeiros campos)\n",
        "df.head(5)"
      ],
      "execution_count": 44,
      "outputs": [
        {
          "output_type": "execute_result",
          "data": {
            "text/html": [
              "<div>\n",
              "<style scoped>\n",
              "    .dataframe tbody tr th:only-of-type {\n",
              "        vertical-align: middle;\n",
              "    }\n",
              "\n",
              "    .dataframe tbody tr th {\n",
              "        vertical-align: top;\n",
              "    }\n",
              "\n",
              "    .dataframe thead th {\n",
              "        text-align: right;\n",
              "    }\n",
              "</style>\n",
              "<table border=\"1\" class=\"dataframe\">\n",
              "  <thead>\n",
              "    <tr style=\"text-align: right;\">\n",
              "      <th></th>\n",
              "      <th>regiao</th>\n",
              "      <th>estado</th>\n",
              "      <th>municipio</th>\n",
              "      <th>codigo_mun</th>\n",
              "      <th>capital</th>\n",
              "      <th>porte</th>\n",
              "      <th>populacao</th>\n",
              "      <th>area</th>\n",
              "      <th>densidade_dem</th>\n",
              "      <th>pib</th>\n",
              "      <th>pib_pc</th>\n",
              "      <th>participacao_transf_receita</th>\n",
              "      <th>servidores</th>\n",
              "      <th>comissionados</th>\n",
              "      <th>comissionados_por_servidor</th>\n",
              "      <th>perc_pop_econ_ativa</th>\n",
              "      <th>taxa_empreendedorismo</th>\n",
              "      <th>anos_estudo_empreendedor</th>\n",
              "      <th>jornada_trabalho</th>\n",
              "      <th>gasto_pc_saude</th>\n",
              "      <th>hab_p_medico</th>\n",
              "      <th>exp_vida</th>\n",
              "      <th>gasto_pc_educacao</th>\n",
              "      <th>exp_anos_estudo</th>\n",
              "      <th>nota_ciencias</th>\n",
              "      <th>nota_humanas</th>\n",
              "      <th>nota_linguagem</th>\n",
              "      <th>nota_mat</th>\n",
              "      <th>nota_redacao</th>\n",
              "      <th>idhm</th>\n",
              "      <th>ranking_igm</th>\n",
              "      <th>indice_governanca</th>\n",
              "    </tr>\n",
              "  </thead>\n",
              "  <tbody>\n",
              "    <tr>\n",
              "      <th>0</th>\n",
              "      <td>SUDESTE</td>\n",
              "      <td>SP</td>\n",
              "      <td>ILHABELA</td>\n",
              "      <td>3520400</td>\n",
              "      <td>0</td>\n",
              "      <td>Pequeno porte 2</td>\n",
              "      <td>32,782</td>\n",
              "      <td>347.52</td>\n",
              "      <td>81.1</td>\n",
              "      <td>3.256712e+06</td>\n",
              "      <td>105112.86</td>\n",
              "      <td>77.0</td>\n",
              "      <td>1495.0</td>\n",
              "      <td>74.0</td>\n",
              "      <td>5%</td>\n",
              "      <td>1.18</td>\n",
              "      <td>0.22</td>\n",
              "      <td>8.436129</td>\n",
              "      <td>42.726231</td>\n",
              "      <td>1529.48</td>\n",
              "      <td>394.987500</td>\n",
              "      <td>75.56</td>\n",
              "      <td>1734.52</td>\n",
              "      <td>10.63</td>\n",
              "      <td>482.054348</td>\n",
              "      <td>541.226087</td>\n",
              "      <td>530.651111</td>\n",
              "      <td>507.952778</td>\n",
              "      <td>499.361111</td>\n",
              "      <td>747.000</td>\n",
              "      <td>1º</td>\n",
              "      <td>767.000</td>\n",
              "    </tr>\n",
              "    <tr>\n",
              "      <th>1</th>\n",
              "      <td>SUDESTE</td>\n",
              "      <td>SP</td>\n",
              "      <td>SANTANA DE PARNAIBA</td>\n",
              "      <td>3547304</td>\n",
              "      <td>0</td>\n",
              "      <td>Grande porte</td>\n",
              "      <td>129,261</td>\n",
              "      <td>179.95</td>\n",
              "      <td>604.7</td>\n",
              "      <td>7.373603e+06</td>\n",
              "      <td>60939.87</td>\n",
              "      <td>51.0</td>\n",
              "      <td>6157.0</td>\n",
              "      <td>587.0</td>\n",
              "      <td>10%</td>\n",
              "      <td>1.04</td>\n",
              "      <td>0.25</td>\n",
              "      <td>10.869492</td>\n",
              "      <td>42.542935</td>\n",
              "      <td>1017.67</td>\n",
              "      <td>400.728155</td>\n",
              "      <td>75.92</td>\n",
              "      <td>1704.93</td>\n",
              "      <td>10.01</td>\n",
              "      <td>483.997625</td>\n",
              "      <td>542.760422</td>\n",
              "      <td>535.765129</td>\n",
              "      <td>499.911091</td>\n",
              "      <td>547.506655</td>\n",
              "      <td>885.000</td>\n",
              "      <td>2º</td>\n",
              "      <td>759.000</td>\n",
              "    </tr>\n",
              "    <tr>\n",
              "      <th>2</th>\n",
              "      <td>SUL</td>\n",
              "      <td>SC</td>\n",
              "      <td>BOMBINHAS</td>\n",
              "      <td>4202453</td>\n",
              "      <td>0</td>\n",
              "      <td>Pequeno porte 1</td>\n",
              "      <td>18,052</td>\n",
              "      <td>35.92</td>\n",
              "      <td>398</td>\n",
              "      <td>3.773573e+05</td>\n",
              "      <td>23135.14</td>\n",
              "      <td>32.0</td>\n",
              "      <td>583.0</td>\n",
              "      <td>48.0</td>\n",
              "      <td>8%</td>\n",
              "      <td>1.09</td>\n",
              "      <td>0.32</td>\n",
              "      <td>8.836678</td>\n",
              "      <td>40.314335</td>\n",
              "      <td>830.70</td>\n",
              "      <td>1126.466667</td>\n",
              "      <td>76.86</td>\n",
              "      <td>1370.96</td>\n",
              "      <td>10.44</td>\n",
              "      <td>472.105607</td>\n",
              "      <td>541.949533</td>\n",
              "      <td>523.251923</td>\n",
              "      <td>474.506731</td>\n",
              "      <td>515.000000</td>\n",
              "      <td>807.000</td>\n",
              "      <td>3º</td>\n",
              "      <td>758.000</td>\n",
              "    </tr>\n",
              "    <tr>\n",
              "      <th>3</th>\n",
              "      <td>SUDESTE</td>\n",
              "      <td>SP</td>\n",
              "      <td>SAO BERNARDO DO CAMPO</td>\n",
              "      <td>3548708</td>\n",
              "      <td>0</td>\n",
              "      <td>Grande porte</td>\n",
              "      <td>822,242</td>\n",
              "      <td>409.53</td>\n",
              "      <td>1,869.40</td>\n",
              "      <td>4.766853e+07</td>\n",
              "      <td>59149.80</td>\n",
              "      <td>49.0</td>\n",
              "      <td>10673.0</td>\n",
              "      <td>611.0</td>\n",
              "      <td>6%</td>\n",
              "      <td>1.09</td>\n",
              "      <td>0.18</td>\n",
              "      <td>9.659424</td>\n",
              "      <td>42.620522</td>\n",
              "      <td>1113.74</td>\n",
              "      <td>2459.057576</td>\n",
              "      <td>76.65</td>\n",
              "      <td>770.79</td>\n",
              "      <td>10.22</td>\n",
              "      <td>489.241514</td>\n",
              "      <td>552.616190</td>\n",
              "      <td>546.173721</td>\n",
              "      <td>514.204358</td>\n",
              "      <td>557.668055</td>\n",
              "      <td>0.864</td>\n",
              "      <td>4º</td>\n",
              "      <td>0.756</td>\n",
              "    </tr>\n",
              "    <tr>\n",
              "      <th>4</th>\n",
              "      <td>CENTRO-OESTE</td>\n",
              "      <td>DF</td>\n",
              "      <td>BRASILIA</td>\n",
              "      <td>5300108</td>\n",
              "      <td>1</td>\n",
              "      <td>Grande porte</td>\n",
              "      <td>2,977,216</td>\n",
              "      <td>5,780.00</td>\n",
              "      <td>444.7</td>\n",
              "      <td>1.753628e+08</td>\n",
              "      <td>62859.43</td>\n",
              "      <td>35.0</td>\n",
              "      <td>119072.0</td>\n",
              "      <td>6288.0</td>\n",
              "      <td>5%</td>\n",
              "      <td>1.10</td>\n",
              "      <td>0.18</td>\n",
              "      <td>9.187700</td>\n",
              "      <td>39.546426</td>\n",
              "      <td>1982.45</td>\n",
              "      <td>572.880498</td>\n",
              "      <td>77.35</td>\n",
              "      <td>2077.49</td>\n",
              "      <td>9.87</td>\n",
              "      <td>493.514758</td>\n",
              "      <td>551.982498</td>\n",
              "      <td>538.366612</td>\n",
              "      <td>509.206006</td>\n",
              "      <td>567.991533</td>\n",
              "      <td>909.000</td>\n",
              "      <td>5º</td>\n",
              "      <td>736.000</td>\n",
              "    </tr>\n",
              "  </tbody>\n",
              "</table>\n",
              "</div>"
            ],
            "text/plain": [
              "         regiao estado  ... ranking_igm  indice_governanca\n",
              "0       SUDESTE     SP  ...          1º            767.000\n",
              "1       SUDESTE     SP  ...          2º            759.000\n",
              "2           SUL     SC  ...          3º            758.000\n",
              "3       SUDESTE     SP  ...          4º              0.756\n",
              "4  CENTRO-OESTE     DF  ...          5º            736.000\n",
              "\n",
              "[5 rows x 32 columns]"
            ]
          },
          "metadata": {
            "tags": []
          },
          "execution_count": 44
        }
      ]
    },
    {
      "cell_type": "code",
      "metadata": {
        "id": "OdRQklLAS8BP"
      },
      "source": [
        "#Qt-03 (Tipos de portes existente)\n",
        "df['porte']"
      ],
      "execution_count": null,
      "outputs": []
    },
    {
      "cell_type": "code",
      "metadata": {
        "colab": {
          "base_uri": "https://localhost:8080/",
          "height": 298
        },
        "id": "aRcrxgi9TaRU",
        "outputId": "5f30b778-aa6f-4852-da31-58f5fb31d254"
      },
      "source": [
        "#Qt-04 (Plotar grafico por cada tipo de porte )\n",
        "df['porte'].value_counts().plot.barh(title = 'Porte',color = 'r')"
      ],
      "execution_count": 54,
      "outputs": [
        {
          "output_type": "execute_result",
          "data": {
            "text/plain": [
              "<matplotlib.axes._subplots.AxesSubplot at 0x7f5aa808b590>"
            ]
          },
          "metadata": {
            "tags": []
          },
          "execution_count": 54
        },
        {
          "output_type": "display_data",
          "data": {
            "image/png": "[encoded data removed]",
            "text/plain": [
              "<Figure size 432x288 with 1 Axes>"
            ]
          },
          "metadata": {
            "tags": [],
            "needs_background": "light"
          }
        }
      ]
    }
  ]
}